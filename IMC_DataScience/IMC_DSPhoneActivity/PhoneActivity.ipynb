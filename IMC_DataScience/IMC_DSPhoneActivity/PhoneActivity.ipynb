{
 "cells": [
  {
   "cell_type": "code",
   "execution_count": 13,
   "metadata": {},
   "outputs": [],
   "source": [
    "import pandas as pd\n",
    "import seaborn as sns\n",
    "import numpy as np\n",
    "%matplotlib inline\n",
    "import matplotlib.pyplot as plt\n",
    "\n",
    "plt.rcParams['font.size'] = 14\n",
    "\n",
    "sns.set_style(\"ticks\")\n",
    "sns.set_context(\"paper\")"
   ]
  },
  {
   "cell_type": "code",
   "execution_count": 14,
   "metadata": {},
   "outputs": [
    {
     "data": {
      "text/html": [
       "<div>\n",
       "<style scoped>\n",
       "    .dataframe tbody tr th:only-of-type {\n",
       "        vertical-align: middle;\n",
       "    }\n",
       "\n",
       "    .dataframe tbody tr th {\n",
       "        vertical-align: top;\n",
       "    }\n",
       "\n",
       "    .dataframe thead th {\n",
       "        text-align: right;\n",
       "    }\n",
       "</style>\n",
       "<table border=\"1\" class=\"dataframe\">\n",
       "  <thead>\n",
       "    <tr style=\"text-align: right;\">\n",
       "      <th></th>\n",
       "      <th>datetime</th>\n",
       "      <th>CellID</th>\n",
       "      <th>countrycode</th>\n",
       "      <th>smsin</th>\n",
       "      <th>smsout</th>\n",
       "      <th>callin</th>\n",
       "      <th>callout</th>\n",
       "      <th>internet</th>\n",
       "      <th>sms</th>\n",
       "      <th>calls</th>\n",
       "    </tr>\n",
       "  </thead>\n",
       "  <tbody>\n",
       "    <tr>\n",
       "      <td>0</td>\n",
       "      <td>2013-11-01</td>\n",
       "      <td>1</td>\n",
       "      <td>0</td>\n",
       "      <td>0.3521</td>\n",
       "      <td>0.0000</td>\n",
       "      <td>0.0000</td>\n",
       "      <td>0.0273</td>\n",
       "      <td>0.0000</td>\n",
       "      <td>0.3521</td>\n",
       "      <td>0.0273</td>\n",
       "    </tr>\n",
       "    <tr>\n",
       "      <td>1</td>\n",
       "      <td>2013-11-01</td>\n",
       "      <td>1</td>\n",
       "      <td>33</td>\n",
       "      <td>0.0000</td>\n",
       "      <td>0.0000</td>\n",
       "      <td>0.0000</td>\n",
       "      <td>0.0000</td>\n",
       "      <td>0.0261</td>\n",
       "      <td>0.0000</td>\n",
       "      <td>0.0000</td>\n",
       "    </tr>\n",
       "    <tr>\n",
       "      <td>2</td>\n",
       "      <td>2013-11-01</td>\n",
       "      <td>1</td>\n",
       "      <td>39</td>\n",
       "      <td>1.7322</td>\n",
       "      <td>1.1047</td>\n",
       "      <td>0.5919</td>\n",
       "      <td>0.4020</td>\n",
       "      <td>57.7729</td>\n",
       "      <td>2.8369</td>\n",
       "      <td>0.9939</td>\n",
       "    </tr>\n",
       "    <tr>\n",
       "      <td>3</td>\n",
       "      <td>2013-11-01</td>\n",
       "      <td>2</td>\n",
       "      <td>0</td>\n",
       "      <td>0.3581</td>\n",
       "      <td>0.0000</td>\n",
       "      <td>0.0000</td>\n",
       "      <td>0.0273</td>\n",
       "      <td>0.0000</td>\n",
       "      <td>0.3581</td>\n",
       "      <td>0.0273</td>\n",
       "    </tr>\n",
       "    <tr>\n",
       "      <td>4</td>\n",
       "      <td>2013-11-01</td>\n",
       "      <td>2</td>\n",
       "      <td>33</td>\n",
       "      <td>0.0000</td>\n",
       "      <td>0.0000</td>\n",
       "      <td>0.0000</td>\n",
       "      <td>0.0000</td>\n",
       "      <td>0.0274</td>\n",
       "      <td>0.0000</td>\n",
       "      <td>0.0000</td>\n",
       "    </tr>\n",
       "  </tbody>\n",
       "</table>\n",
       "</div>"
      ],
      "text/plain": [
       "    datetime  CellID  countrycode   smsin  smsout  callin  callout  internet  \\\n",
       "0 2013-11-01       1            0  0.3521  0.0000  0.0000   0.0273    0.0000   \n",
       "1 2013-11-01       1           33  0.0000  0.0000  0.0000   0.0000    0.0261   \n",
       "2 2013-11-01       1           39  1.7322  1.1047  0.5919   0.4020   57.7729   \n",
       "3 2013-11-01       2            0  0.3581  0.0000  0.0000   0.0273    0.0000   \n",
       "4 2013-11-01       2           33  0.0000  0.0000  0.0000   0.0000    0.0274   \n",
       "\n",
       "      sms   calls  \n",
       "0  0.3521  0.0273  \n",
       "1  0.0000  0.0000  \n",
       "2  2.8369  0.9939  \n",
       "3  0.3581  0.0273  \n",
       "4  0.0000  0.0000  "
      ]
     },
     "execution_count": 14,
     "metadata": {},
     "output_type": "execute_result"
    }
   ],
   "source": [
    "df_cdrs = pd.DataFrame({})\n",
    "for i in range(1,8):\n",
    "    df = pd.read_csv('sms-call-internet-mi-2013-11-0{}.csv'.format(i), parse_dates=['datetime'])\n",
    "    df_cdrs = df_cdrs.append(df)\n",
    "    \n",
    "df_cdrs=df_cdrs.fillna(0)\n",
    "df_cdrs['sms'] = df_cdrs['smsin'] + df_cdrs['smsout']\n",
    "df_cdrs['calls'] = df_cdrs['callin'] + df_cdrs['callout']\n",
    "df_cdrs.head()"
   ]
  },
  {
   "cell_type": "markdown",
   "metadata": {},
   "source": [
    "<h2>Internet activity</h2>"
   ]
  },
  {
   "cell_type": "code",
   "execution_count": 43,
   "metadata": {},
   "outputs": [],
   "source": [
    "df_cdrs_internet = df_cdrs[['datetime', 'CellID', 'internet', 'calls', 'sms']].groupby(['datetime', 'CellID'], as_index=False).sum()\n",
    "df_cdrs_internet['hour'] = df_cdrs_internet.datetime.dt.hour+24*(df_cdrs_internet.datetime.dt.day-1)\n",
    "df_cdrs_internet = df_cdrs_internet.set_index(['hour']).sort_index()\n"
   ]
  },
  {
   "cell_type": "code",
   "execution_count": 40,
   "metadata": {},
   "outputs": [
    {
     "data": {
      "text/html": [
       "<div>\n",
       "<style scoped>\n",
       "    .dataframe tbody tr th:only-of-type {\n",
       "        vertical-align: middle;\n",
       "    }\n",
       "\n",
       "    .dataframe tbody tr th {\n",
       "        vertical-align: top;\n",
       "    }\n",
       "\n",
       "    .dataframe thead th {\n",
       "        text-align: right;\n",
       "    }\n",
       "</style>\n",
       "<table border=\"1\" class=\"dataframe\">\n",
       "  <thead>\n",
       "    <tr style=\"text-align: right;\">\n",
       "      <th></th>\n",
       "      <th>datetime</th>\n",
       "      <th>CellID</th>\n",
       "      <th>internet</th>\n",
       "      <th>calls</th>\n",
       "      <th>sms</th>\n",
       "    </tr>\n",
       "    <tr>\n",
       "      <th>hour</th>\n",
       "      <th></th>\n",
       "      <th></th>\n",
       "      <th></th>\n",
       "      <th></th>\n",
       "      <th></th>\n",
       "    </tr>\n",
       "  </thead>\n",
       "  <tbody>\n",
       "    <tr>\n",
       "      <td>0</td>\n",
       "      <td>2013-11-01 00:00:00</td>\n",
       "      <td>1</td>\n",
       "      <td>57.7990</td>\n",
       "      <td>1.0212</td>\n",
       "      <td>3.1890</td>\n",
       "    </tr>\n",
       "    <tr>\n",
       "      <td>0</td>\n",
       "      <td>2013-11-01 00:00:00</td>\n",
       "      <td>2</td>\n",
       "      <td>57.9149</td>\n",
       "      <td>1.0402</td>\n",
       "      <td>3.1795</td>\n",
       "    </tr>\n",
       "    <tr>\n",
       "      <td>0</td>\n",
       "      <td>2013-11-01 00:00:00</td>\n",
       "      <td>3</td>\n",
       "      <td>58.0382</td>\n",
       "      <td>1.0604</td>\n",
       "      <td>3.1693</td>\n",
       "    </tr>\n",
       "    <tr>\n",
       "      <td>0</td>\n",
       "      <td>2013-11-01 00:00:00</td>\n",
       "      <td>4</td>\n",
       "      <td>57.4634</td>\n",
       "      <td>0.9663</td>\n",
       "      <td>3.2166</td>\n",
       "    </tr>\n",
       "    <tr>\n",
       "      <td>0</td>\n",
       "      <td>2013-11-01 00:00:00</td>\n",
       "      <td>5</td>\n",
       "      <td>52.1714</td>\n",
       "      <td>0.8850</td>\n",
       "      <td>2.9147</td>\n",
       "    </tr>\n",
       "    <tr>\n",
       "      <td>...</td>\n",
       "      <td>...</td>\n",
       "      <td>...</td>\n",
       "      <td>...</td>\n",
       "      <td>...</td>\n",
       "      <td>...</td>\n",
       "    </tr>\n",
       "    <tr>\n",
       "      <td>167</td>\n",
       "      <td>2013-11-07 23:00:00</td>\n",
       "      <td>9996</td>\n",
       "      <td>191.2033</td>\n",
       "      <td>4.1136</td>\n",
       "      <td>14.9461</td>\n",
       "    </tr>\n",
       "    <tr>\n",
       "      <td>167</td>\n",
       "      <td>2013-11-07 23:00:00</td>\n",
       "      <td>9997</td>\n",
       "      <td>212.2059</td>\n",
       "      <td>4.6225</td>\n",
       "      <td>13.7813</td>\n",
       "    </tr>\n",
       "    <tr>\n",
       "      <td>167</td>\n",
       "      <td>2013-11-07 23:00:00</td>\n",
       "      <td>9998</td>\n",
       "      <td>207.8873</td>\n",
       "      <td>4.5127</td>\n",
       "      <td>14.0019</td>\n",
       "    </tr>\n",
       "    <tr>\n",
       "      <td>167</td>\n",
       "      <td>2013-11-07 23:00:00</td>\n",
       "      <td>9999</td>\n",
       "      <td>141.3950</td>\n",
       "      <td>3.4669</td>\n",
       "      <td>11.3664</td>\n",
       "    </tr>\n",
       "    <tr>\n",
       "      <td>167</td>\n",
       "      <td>2013-11-07 23:00:00</td>\n",
       "      <td>10000</td>\n",
       "      <td>135.7232</td>\n",
       "      <td>3.6653</td>\n",
       "      <td>7.8427</td>\n",
       "    </tr>\n",
       "  </tbody>\n",
       "</table>\n",
       "<p>1679994 rows × 5 columns</p>\n",
       "</div>"
      ],
      "text/plain": [
       "                datetime  CellID  internet   calls      sms\n",
       "hour                                                       \n",
       "0    2013-11-01 00:00:00       1   57.7990  1.0212   3.1890\n",
       "0    2013-11-01 00:00:00       2   57.9149  1.0402   3.1795\n",
       "0    2013-11-01 00:00:00       3   58.0382  1.0604   3.1693\n",
       "0    2013-11-01 00:00:00       4   57.4634  0.9663   3.2166\n",
       "0    2013-11-01 00:00:00       5   52.1714  0.8850   2.9147\n",
       "...                  ...     ...       ...     ...      ...\n",
       "167  2013-11-07 23:00:00    9996  191.2033  4.1136  14.9461\n",
       "167  2013-11-07 23:00:00    9997  212.2059  4.6225  13.7813\n",
       "167  2013-11-07 23:00:00    9998  207.8873  4.5127  14.0019\n",
       "167  2013-11-07 23:00:00    9999  141.3950  3.4669  11.3664\n",
       "167  2013-11-07 23:00:00   10000  135.7232  3.6653   7.8427\n",
       "\n",
       "[1679994 rows x 5 columns]"
      ]
     },
     "execution_count": 40,
     "metadata": {},
     "output_type": "execute_result"
    }
   ],
   "source": [
    "df_cdrs_internet"
   ]
  },
  {
   "cell_type": "code",
   "execution_count": 49,
   "metadata": {},
   "outputs": [
    {
     "data": {
      "text/plain": [
       "<matplotlib.legend.Legend at 0x1a2a82d950>"
      ]
     },
     "execution_count": 49,
     "metadata": {},
     "output_type": "execute_result"
    },
    {
     "data": {
      "image/png": "[encoded data removed]",
      "text/plain": [
       "<Figure size 432x288 with 1 Axes>"
      ]
     },
     "metadata": {},
     "output_type": "display_data"
    }
   ],
   "source": [
    "ax = df_cdrs_internet[df_cdrs_internet.CellID==5060]['internet'].plot(label='Duomo')\n",
    "df_cdrs_internet[df_cdrs_internet.CellID==4259]['internet'].plot(ax=ax, label='Bocconi')\n",
    "df_cdrs_internet[df_cdrs_internet.CellID==4456]['internet'].plot(ax=ax, label='Navigli')\n",
    "plt.xlabel(\"Weekly hour\")\n",
    "plt.ylabel(\"Number of connections\")\n",
    "sns.despine()\n",
    "\n",
    "# Shrink current axis's height by 10% on the bottom\n",
    "box = ax.get_position()\n",
    "ax.set_position([box.x0, box.y0 + box.height * 0.1,\n",
    "                 box.width, box.height * 0.9])\n",
    "ax.legend(loc='upper center', bbox_to_anchor=(0.5, -0.15),\n",
    "          fancybox=True, shadow=True, ncol=5)"
   ]
  },
  {
   "cell_type": "markdown",
   "metadata": {},
   "source": [
    "<h2>Weekly BoxPlots</h2>"
   ]
  },
  {
   "cell_type": "code",
   "execution_count": 47,
   "metadata": {},
   "outputs": [
    {
     "data": {
      "text/plain": [
       "Text(0.5, 0, 'Weekday (0=Monday, 6=Sunday)')"
      ]
     },
     "execution_count": 47,
     "metadata": {},
     "output_type": "execute_result"
    },
    {
     "data": {
      "image/png": "[encoded data removed]",
      "text/plain": [
       "<Figure size 432x288 with 3 Axes>"
      ]
     },
     "metadata": {},
     "output_type": "display_data"
    }
   ],
   "source": [
    "boxplots = {\n",
    "    'calls': \"Calls\",\n",
    "    'sms': \"SMS\",\n",
    "    \"internet\": \"Internet CDRs\"\n",
    "}\n",
    "\n",
    "df_cdrs_internet['weekday'] = df_cdrs_internet.datetime.dt.weekday\n",
    "\n",
    "f, axs = plt.subplots(len(boxplots.keys()), sharex=True, sharey=False)\n",
    "f.subplots_adjust(hspace=.35,wspace=0.1)\n",
    "i = 0\n",
    "plt.suptitle(\"\")\n",
    "for k,v in boxplots.items():\n",
    "    ax = df_cdrs_internet.reset_index().boxplot(column=k, by='weekday', grid=False, sym='', ax =axs[i])\n",
    "    axs[i].set_title(v)\n",
    "    axs[i].set_xlabel(\"\")\n",
    "    sns.despine()\n",
    "    i += 1\n",
    "    \n",
    "plt.xlabel(\"Weekday (0=Monday, 6=Sunday)\")\n",
    "#f.text(0, 0.5, \"Number of events\", rotation=\"vertical\", va=\"center\")"
   ]
  },
  {
   "cell_type": "code",
   "execution_count": null,
   "metadata": {},
   "outputs": [],
   "source": []
  }
 ],
 "metadata": {
  "kernelspec": {
   "display_name": "Python 3",
   "language": "python",
   "name": "python3"
  },
  "language_info": {
   "codemirror_mode": {
    "name": "ipython",
    "version": 3
   },
   "file_extension": ".py",
   "mimetype": "text/x-python",
   "name": "python",
   "nbconvert_exporter": "python",
   "pygments_lexer": "ipython3",
   "version": "3.7.4"
  }
 },
 "nbformat": 4,
 "nbformat_minor": 2
}
